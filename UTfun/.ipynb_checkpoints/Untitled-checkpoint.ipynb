{
 "cells": [
  {
   "cell_type": "code",
   "execution_count": null,
   "id": "ba38047e",
   "metadata": {},
   "outputs": [
    {
     "name": "stdout",
     "output_type": "stream",
     "text": [
      "The sun is shining.\n",
      "The bird is sin"
     ]
    }
   ],
   "source": [
    "def utprint(str):\n",
    "    import time\n",
    "    for i in range(0,len(str)):\n",
    "        print(str[i],end='')\n",
    "        time.sleep(0.2)\n",
    "    print(\"\\n\")\n",
    "utprint(\"The sun is shining.\\nThe bird is sining.\\nThe kid lile you....\\nS H O U L D   B E   B U R N I N G   I N   T H E   HELL!\")\n",
    "pass"
   ]
  },
  {
   "cell_type": "code",
   "execution_count": null,
   "id": "56bbab70",
   "metadata": {},
   "outputs": [],
   "source": []
  },
  {
   "cell_type": "code",
   "execution_count": null,
   "id": "5adfe398",
   "metadata": {},
   "outputs": [],
   "source": []
  }
 ],
 "metadata": {
  "kernelspec": {
   "display_name": "Python 3",
   "language": "python",
   "name": "python3"
  },
  "language_info": {
   "codemirror_mode": {
    "name": "ipython",
    "version": 3
   },
   "file_extension": ".py",
   "mimetype": "text/x-python",
   "name": "python",
   "nbconvert_exporter": "python",
   "pygments_lexer": "ipython3",
   "version": "3.9.4"
  }
 },
 "nbformat": 4,
 "nbformat_minor": 5
}
